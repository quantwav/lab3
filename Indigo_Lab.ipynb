{
  "nbformat": 4,
  "nbformat_minor": 0,
  "metadata": {
    "colab": {
      "provenance": [],
      "include_colab_link": true
    },
    "kernelspec": {
      "name": "python3",
      "display_name": "Python 3"
    },
    "language_info": {
      "name": "python"
    }
  },
  "cells": [
    {
      "cell_type": "markdown",
      "metadata": {
        "id": "view-in-github",
        "colab_type": "text"
      },
      "source": [
        "<a href=\"https://colab.research.google.com/github/quantwav/lab3/blob/main/Indigo_Lab.ipynb\" target=\"_parent\"><img src=\"https://colab.research.google.com/assets/colab-badge.svg\" alt=\"Open In Colab\"/></a>"
      ]
    },
    {
      "cell_type": "markdown",
      "source": [
        "# **Notebook setup**"
      ],
      "metadata": {
        "id": "ABQqbp9twMPV"
      }
    },
    {
      "cell_type": "code",
      "source": [
        "from google.colab import drive\n",
        "drive.mount('/content/drive')\n",
        "\n",
        "# 打开Code文件夹\n",
        "%cd '/content/drive/My Drive/Colab Notebooks'\n",
        "\n"
      ],
      "metadata": {
        "colab": {
          "base_uri": "https://localhost:8080/"
        },
        "id": "AvBSFVD5_anf",
        "outputId": "ce827ec0-a0b1-428a-bd78-8edf1f57c7c7"
      },
      "execution_count": null,
      "outputs": [
        {
          "output_type": "stream",
          "name": "stdout",
          "text": [
            "Drive already mounted at /content/drive; to attempt to forcibly remount, call drive.mount(\"/content/drive\", force_remount=True).\n",
            "/content/drive/My Drive/Colab Notebooks\n"
          ]
        }
      ]
    },
    {
      "cell_type": "code",
      "source": [
        "# 打开要编辑的文件\n",
        "with open('Indigo Lab.ipynb', 'r') as f:\n",
        "    code = f.read()\n",
        "\n",
        "# 启动协作编辑模式\n",
        "from google.colab import output\n",
        "output.eval_js('google.colab.kernel.comms.open(\"my_editor\", \"editor\")')\n",
        "\n",
        "# 发送文件内容到协作编辑器\n",
        "output.eval_js(f'editor.setValue(`{code}`)')\n",
        "\n",
        "# 接收协作编辑器中的变更\n",
        "while True:\n",
        "    message = output.eval_js('google.colab.kernel.comms.get(\"my_editor\").recv()')\n",
        "    if message:\n",
        "        # 保存变更后的文件\n",
        "        with open('example.py', 'w') as f:\n",
        "            f.write(message['data'])\n",
        "    else:\n",
        "        break"
      ],
      "metadata": {
        "id": "MTGJWbg75o6T"
      },
      "execution_count": null,
      "outputs": []
    },
    {
      "cell_type": "code",
      "source": [],
      "metadata": {
        "id": "mBaihB2T5qXZ"
      },
      "execution_count": null,
      "outputs": []
    },
    {
      "cell_type": "code",
      "source": [
        "%matplotlib inline\n",
        "# Use %matplotlib ipympl or %matplotlib widget if you want interactive matplotlib plots\n",
        "#%matplotlib widget\n",
        "\n",
        "# reloads modules automatically before entering the execution of code typed at the IPython prompt\n",
        "%load_ext autoreload\n",
        "%autoreload 2"
      ],
      "metadata": {
        "id": "4PnLJ4jv9xcN",
        "colab": {
          "base_uri": "https://localhost:8080/"
        },
        "outputId": "fd9df5b9-2203-4e95-eee3-e3c76c5ef134"
      },
      "execution_count": null,
      "outputs": [
        {
          "output_type": "stream",
          "name": "stdout",
          "text": [
            "The autoreload extension is already loaded. To reload it, use:\n",
            "  %reload_ext autoreload\n"
          ]
        }
      ]
    },
    {
      "cell_type": "code",
      "source": [
        "# Package Imports\n",
        "!pip install linearmodels\n",
        "import linearmodels as lm  #for panel data econometrics\n",
        "import matplotlib.pyplot as plt\n",
        "import matplotlib.ticker as mtick\n",
        "import numpy as np\n",
        "import pandas as pd\n",
        "import seaborn as sns\n",
        "import statsmodels.api as sm\n",
        "import statsmodels.formula.api as smf\n",
        "import sys\n",
        "import time\n",
        "\n",
        "# To display dataframes as interactive tables in the notebook:\n",
        "!pip install itables\n",
        "from itables import init_notebook_mode\n",
        "init_notebook_mode(all_interactive=True)\n",
        "\n",
        "# Add current directory to access common code in dp.py\n",
        "#sys.path.insert(0, '/Users/mrrobert/Dropbox/mrrobert/Data')\n",
        "#sys.path.insert(0, '.')\n",
        "\n",
        "#import data_paths as dp\n",
        "\n",
        "# Tolerance for tests\n",
        "TOL = 1.0e-8"
      ],
      "metadata": {
        "id": "aL8pfmrv9zYp"
      },
      "execution_count": null,
      "outputs": []
    },
    {
      "cell_type": "code",
      "source": [
        "df_raw_c = (\n",
        "    pd\n",
        "    .read_parquet('15-inflation-profit.pq')\n",
        "#     .drop(columns=['sich']) #you want to drop the column \"SICH\" because it has only missing values\n",
        ")\n",
        "\n",
        "df_raw_p = (\n",
        "    pd\n",
        "    .read_parquet('D:/Chrome Download/15-inflation-profit.pq')\n",
        "#     .drop(columns=['sich']) #you want to drop the column \"SICH\" because it has only missing values\n",
        ")\n",
        "\n",
        "df_raw_t = (\n",
        "    pd\n",
        "    .read_parquet('D:/Chrome Download/15-inflation-profit.pq')\n",
        "#     .drop(columns=['sich']) #you want to drop the column \"SICH\" because it has only missing values\n",
        ")\n"
      ],
      "metadata": {
        "id": "g8_du-8tz8WE"
      },
      "execution_count": null,
      "outputs": []
    },
    {
      "cell_type": "code",
      "source": [
        "hello"
      ],
      "metadata": {
        "id": "A-C-5hNd-1wS"
      },
      "execution_count": null,
      "outputs": []
    },
    {
      "cell_type": "code",
      "source": [],
      "metadata": {
        "id": "ii9H2z47z8TG"
      },
      "execution_count": null,
      "outputs": []
    },
    {
      "cell_type": "code",
      "source": [],
      "metadata": {
        "id": "auZX_E3Cz8Pw"
      },
      "execution_count": null,
      "outputs": []
    },
    {
      "cell_type": "code",
      "source": [],
      "metadata": {
        "id": "z-pH-CLQz8GQ"
      },
      "execution_count": null,
      "outputs": []
    }
  ]
}