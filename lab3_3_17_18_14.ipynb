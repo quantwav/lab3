 去除了nan，修改了部分图的格式，增加了answer sheet
